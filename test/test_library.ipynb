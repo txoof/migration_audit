{
 "cells": [
  {
   "cell_type": "code",
   "execution_count": null,
   "id": "2c9dd1d8",
   "metadata": {},
   "outputs": [],
   "source": [
    "import logging\n",
    "import pytest \n",
    "from migration_audit.library import GDrive\n",
    "\n",
    "import oauth2client\n",
    "\n",
    "logger = logging.getLogger(__name__)\n",
    "logger.root.setLevel('DEBUG')"
   ]
  },
  {
   "cell_type": "code",
   "execution_count": null,
   "id": "7cf747bd",
   "metadata": {},
   "outputs": [],
   "source": [
    "@pytest.fixture\n",
    "def googledrive():\n",
    "    return GDrive.GoogleDrive()\n",
    "\n",
    "def test_test():\n",
    "    assert 2 == 2\n",
    "\n",
    "def test_GDriveError():\n",
    "    with pytest.raises(GDrive.GDriveError) as e_info:\n",
    "        raise GDrive.GDriveError('GDrive Exception')\n",
    "    assert e_info.value.args[0] == 'GDrive Exception'\n",
    "\n",
    "def test_GDriveNetworkError():\n",
    "    with pytest.raises(GDrive.GDriveNetworkError) as e_info:\n",
    "        raise GDrive.GDriveNetworkError('GDrive Network Exception')\n",
    "    assert e_info.value.args[0] == 'GDrive Network Exception'\n",
    "\n",
    "\n",
    "def test_retry_decorator():\n",
    "    assert callable(GDrive.retryer())\n",
    "\n",
    "def test_GoogleDrive_constructor(googledrive):\n",
    "    assert isinstance(googledrive, GDrive.GoogleDrive)\n",
    "\n",
    "\n",
    "def test_GoogleDrive_oauth_cred(googledrive):\n",
    "    assert isinstance(googledrive.oauth_cred, oauth2client.client.OAuth2Credentials)"
   ]
  },
  {
   "cell_type": "code",
   "execution_count": 7,
   "id": "07594d1f",
   "metadata": {},
   "outputs": [
    {
     "data": {
      "application/javascript": [
       "IPython.notebook.save_checkpoint();"
      ],
      "text/plain": [
       "<IPython.core.display.Javascript object>"
      ]
     },
     "metadata": {},
     "output_type": "display_data"
    },
    {
     "name": "stdout",
     "output_type": "stream",
     "text": [
      "[NbConvertApp] Converting notebook test_library.ipynb to python\n",
      "[NbConvertApp] Writing 1041 bytes to test_library.py\n",
      "\u001b[1m============================= test session starts ==============================\u001b[0m\n",
      "platform darwin -- Python 3.9.8, pytest-6.2.5, py-1.11.0, pluggy-1.0.0 -- /Users/aaronciuffo/.local/share/virtualenvs/migration_audit-uCpo6xqz/bin/python3\n",
      "cachedir: .pytest_cache\n",
      "rootdir: /Users/aaronciuffo/Documents/src/migration_audit\n",
      "plugins: cov-3.0.0\n",
      "collected 6 items                                                              \u001b[0m\u001b[1m\n",
      "\n",
      "test/test_library.py::test_test \u001b[32mPASSED\u001b[0m\u001b[32m                                   [ 16%]\u001b[0m\n",
      "test/test_library.py::test_GDriveError \u001b[32mPASSED\u001b[0m\u001b[32m                            [ 33%]\u001b[0m\n",
      "test/test_library.py::test_GDriveNetworkError \u001b[32mPASSED\u001b[0m\u001b[32m                     [ 50%]\u001b[0m\n",
      "test/test_library.py::test_retry_decorator \u001b[32mPASSED\u001b[0m\u001b[32m                        [ 66%]\u001b[0m\n",
      "test/test_library.py::test_GoogleDrive_constructor \u001b[32mPASSED\u001b[0m\u001b[32m                [ 83%]\u001b[0m\n",
      "test/test_library.py::test_GoogleDrive_oauth_cred \u001b[31mFAILED\u001b[0m\u001b[31m                 [100%]\u001b[0m\n",
      "\n",
      "=================================== FAILURES ===================================\n",
      "\u001b[31m\u001b[1m_________________________ test_GoogleDrive_oauth_cred __________________________\u001b[0m\n",
      "\n",
      "googledrive = <migration_audit.library.GDrive.GoogleDrive object at 0x110bf96d0>\n",
      "\n",
      "    \u001b[94mdef\u001b[39;49;00m \u001b[92mtest_GoogleDrive_oauth_cred\u001b[39;49;00m(googledrive):\n",
      ">       \u001b[94massert\u001b[39;49;00m \u001b[96misinstance\u001b[39;49;00m(googledrive.oauth_cred, oauth2client.client.OAuth2Credentials)\n",
      "\u001b[1m\u001b[31mE       AttributeError: 'GoogleDrive' object has no attribute 'oauth_cred'\u001b[0m\n",
      "\n",
      "\u001b[1m\u001b[31mtest/test_library.py\u001b[0m:46: AttributeError\n",
      "------------------------------ Captured log setup ------------------------------\n",
      "\u001b[35mDEBUG   \u001b[0m migration_audit.library.GDrive:GDrive.py:40 create GoogleDrive object\n",
      "\n",
      "---------- coverage: platform darwin, python 3.9.8-final-0 -----------\n",
      "Name                                  Stmts   Miss  Cover\n",
      "---------------------------------------------------------\n",
      "migration_audit/__init__.py               0      0   100%\n",
      "migration_audit/library/GDrive.py        30     13    57%\n",
      "migration_audit/library/__init__.py       1      0   100%\n",
      "test/test_library.py                     25      0   100%\n",
      "---------------------------------------------------------\n",
      "TOTAL                                    56     13    77%\n",
      "\n",
      "=========================== short test summary info ============================\n",
      "FAILED test/test_library.py::test_GoogleDrive_oauth_cred - AttributeError: 'G...\n",
      "\u001b[31m========================= \u001b[31m\u001b[1m1 failed\u001b[0m, \u001b[32m5 passed\u001b[0m\u001b[31m in 0.79s\u001b[0m\u001b[31m ==========================\u001b[0m\n"
     ]
    }
   ],
   "source": [
    "# force a save of the notebook\n",
    "from pathlib import Path\n",
    "from IPython.display import display, Javascript\n",
    "display(Javascript('IPython.notebook.save_checkpoint();'))\n",
    "\n",
    "# convert to python\n",
    "!jupyter nbconvert --to python --template python_clean test_library.ipynb\n",
    "# path for running tests from\n",
    "p = Path('.').resolve().parent\n",
    "!cd $p; pipenv run python3 -m pytest -v --cov\n"
   ]
  },
  {
   "cell_type": "code",
   "execution_count": null,
   "id": "01406688",
   "metadata": {},
   "outputs": [],
   "source": []
  }
 ],
 "metadata": {
  "kernelspec": {
   "display_name": "migration_audit-uCpo6xqz",
   "language": "python",
   "name": "migration_audit-ucpo6xqz"
  },
  "language_info": {
   "codemirror_mode": {
    "name": "ipython",
    "version": 3
   },
   "file_extension": ".py",
   "mimetype": "text/x-python",
   "name": "python",
   "nbconvert_exporter": "python",
   "pygments_lexer": "ipython3",
   "version": "3.9.8"
  }
 },
 "nbformat": 4,
 "nbformat_minor": 5
}
